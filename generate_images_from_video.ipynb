{
 "cells": [
  {
   "cell_type": "code",
   "execution_count": 10,
   "id": "3637d470-fb88-47b5-be33-f4f4fdd9f59d",
   "metadata": {},
   "outputs": [],
   "source": [
    "detected_ids = [['Roman'], ['Roman'], ['Roman'], ['Roman'], ['Roman'], ['Roman'], ['Roman'], ['Roman'], ['Roman'], ['Roman'], ['Roman'], ['Roman'], ['Roman'], ['Roman'], ['Artem'], ['Roman'], ['Roman'], ['Artem'], ['Roman'], ['Roman'], ['Roman'], ['Roman'], ['Roman'], ['Roman']]"
   ]
  },
  {
   "cell_type": "code",
   "execution_count": 14,
   "id": "b473aeba-6052-4d67-bb49-3f5f26400899",
   "metadata": {},
   "outputs": [],
   "source": [
    "def determine_person_presence(detected_persons):\n",
    "    # Flatten the list of lists into a single list of ids\n",
    "    flat_list = [item for sublist in detected_persons for item in sublist]\n",
    "\n",
    "    # Count the occurrences of each id\n",
    "    person_counts = Counter(flat_list)\n",
    "\n",
    "    # Find the id(s) with the maximum occurrences\n",
    "    max_count = max(person_counts.values())\n",
    "    mode_persons = [id for id, count in person_counts.items() if count == max_count]\n",
    "\n",
    "    # Calculate the percentage of presence for each mode id\n",
    "    total_frames = len(detected_ids)\n",
    "    percentages = {person_: (count / total_frames) * 100 for person_, count in person_counts.items() if person_ in mode_ids}\n",
    "\n",
    "    # Return mode_id and mode_presence\n",
    "    mode_person = mode_persons[0] if len(mode_persons) == 1 else mode_persons\n",
    "    mode_presence = percentages[mode_person] if len(mode_persons) == 1 else {person_: percentages[person_] for person_ in mode_persons}\n",
    "\n",
    "    return mode_person, mode_presence"
   ]
  },
  {
   "cell_type": "code",
   "execution_count": 15,
   "id": "8ddae5a1-8d71-42c1-9486-f81aa3c8af0b",
   "metadata": {},
   "outputs": [
    {
     "data": {
      "text/plain": [
       "('Roman', 91.66666666666666)"
      ]
     },
     "execution_count": 15,
     "metadata": {},
     "output_type": "execute_result"
    }
   ],
   "source": [
    "determine_person_presence(detected_ids)"
   ]
  },
  {
   "cell_type": "code",
   "execution_count": 3,
   "id": "e46085cc",
   "metadata": {},
   "outputs": [
    {
     "name": "stdout",
     "output_type": "stream",
     "text": [
      "Started...\n",
      "Processing roman_face_3.mov...\n",
      "\n",
      "Ended!\n"
     ]
    }
   ],
   "source": [
    "import cv2\n",
    "import os\n",
    "\n",
    "\n",
    "video_name = \"roman_face_3.mov\"\n",
    "# Create the directory if it doesn't exist\n",
    "output_directory = \"data/\" + video_name.split(\".\")[0]\n",
    "if not os.path.exists(output_directory):\n",
    "    os.makedirs(output_directory)\n",
    "\n",
    "cam = cv2.VideoCapture(video_name)\n",
    "currentframe = 0\n",
    "\n",
    "# Set the frame skip interval (e.g., capture every n'th frame)\n",
    "frame_skip_interval = 8\n",
    "\n",
    "print(\"Started...\")\n",
    "print(f\"Processing {video_name}...\")\n",
    "while True:\n",
    "    ret, frame = cam.read()\n",
    "    if ret:\n",
    "        if currentframe % frame_skip_interval == 0:\n",
    "            name = os.path.join(output_directory, 'Frame(' + str(currentframe) + ').jpg')\n",
    "            cv2.imwrite(name, frame)\n",
    "        currentframe += 1\n",
    "    else:\n",
    "        break\n",
    "\n",
    "print()\n",
    "print(\"Ended!\")\n",
    "\n",
    "cam.release()\n",
    "cv2.destroyAllWindows()\n"
   ]
  },
  {
   "cell_type": "code",
   "execution_count": null,
   "id": "ecfc7241-3383-46ab-9eca-d8d6ee9f69ab",
   "metadata": {},
   "outputs": [],
   "source": []
  }
 ],
 "metadata": {
  "kernelspec": {
   "display_name": "Python 3 (ipykernel)",
   "language": "python",
   "name": "python3"
  },
  "language_info": {
   "codemirror_mode": {
    "name": "ipython",
    "version": 3
   },
   "file_extension": ".py",
   "mimetype": "text/x-python",
   "name": "python",
   "nbconvert_exporter": "python",
   "pygments_lexer": "ipython3",
   "version": "3.11.3"
  }
 },
 "nbformat": 4,
 "nbformat_minor": 5
}
